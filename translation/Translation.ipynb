{
 "cells": [
  {
   "cell_type": "markdown",
   "metadata": {},
   "source": [
    "Tutorial: http://pytorch.org/tutorials/intermediate/seq2seq_translation_tutorial.html"
   ]
  },
  {
   "cell_type": "code",
   "execution_count": 27,
   "metadata": {},
   "outputs": [],
   "source": [
    "from __future__ import unicode_literals, print_function, division\n",
    "from io import open\n",
    "import unicodedata\n",
    "import string\n",
    "import re\n",
    "import random\n",
    "\n",
    "import torch\n",
    "import torch.nn as nn\n",
    "from torch.autograd import Variable\n",
    "from torch import optim\n",
    "import torch.nn.functional as F\n",
    "\n",
    "use_cuda = torch.cuda.is_available()"
   ]
  },
  {
   "cell_type": "markdown",
   "metadata": {},
   "source": [
    "# Data Preprocessing\n",
    "\n",
    "## Helper class to create the one-hot vectors for our dataset."
   ]
  },
  {
   "cell_type": "code",
   "execution_count": 43,
   "metadata": {},
   "outputs": [],
   "source": [
    "SOS_token = 0 #start of sentence\n",
    "EOS_token = 1 #end of sentence\n",
    "\n",
    "class Lang:\n",
    "    def __init__(self, name):\n",
    "        self.name = name\n",
    "        self.word2index = {}\n",
    "        self.word2count = {}\n",
    "        self.index2word = {0: \"SOS\", 1: \"EOS\"}\n",
    "        self.n_words = 2\n",
    "        \n",
    "    def addSentence(self, sentence):\n",
    "        for word in sentence.split(' '):\n",
    "            self.addWord(word)\n",
    "            \n",
    "    def addWord(self, word):\n",
    "        if word not in self.word2index:\n",
    "            self.word2index[word] = self.n_words\n",
    "            self.word2count[word] = 1\n",
    "            self.index2word[self.n_words] = word\n",
    "            self.n_words += 1\n",
    "        else:\n",
    "            self.word2count[word] += 1"
   ]
  },
  {
   "cell_type": "markdown",
   "metadata": {},
   "source": [
    "## Preprocess files\n",
    "\n",
    "Transform unicode in ascii and convert to lower case."
   ]
  },
  {
   "cell_type": "code",
   "execution_count": 42,
   "metadata": {},
   "outputs": [],
   "source": [
    "import re, unicodedata\n",
    "\n",
    "def unicodeToAscii(s):\n",
    "    return ''.join( c for c in unicodedata.normalize('NFD', s) if unicodedata.category(c) != 'Mn')\n",
    "\n",
    "def normalizeString(s):\n",
    "    s = unicodeToAscii(s.lower().strip())\n",
    "    s = re.sub(r\"([.!?])\", r\" \\1\", s)\n",
    "    s = re.sub(r\"[^a-zA-Z.!?]+\", r\" \", s)\n",
    "    return s"
   ]
  },
  {
   "cell_type": "markdown",
   "metadata": {},
   "source": [
    "## Read file\n",
    "\n",
    "Split line into pairs (english / other language)"
   ]
  },
  {
   "cell_type": "code",
   "execution_count": 44,
   "metadata": {},
   "outputs": [],
   "source": [
    "def readLangs(lang1, lang2, reverse = False):\n",
    "    print(\"Reading lines...\")\n",
    "    lines = open ('data/%s-%s/%s.txt'%(lang1, lang2, lang1), encoding = 'utf-8').read().strip().split('\\n')\n",
    "    pairs = [[normalizeString(s) for s in l.split('\\t')] for l in lines]\n",
    "    if reverse:\n",
    "        pairs = [list(reversed(p)) for p in pairs]\n",
    "        input_lang = Lang(lang1)\n",
    "        output_lang = Lang(lang2)\n",
    "    else:\n",
    "        input_lang = Lang(lang2)\n",
    "        output_lang = Lang(lang1)\n",
    "    return input_lang, output_lang, pairs"
   ]
  },
  {
   "cell_type": "markdown",
   "metadata": {},
   "source": [
    "## Make it easier\n",
    "\n",
    "Keep only sort sentences that translate to the form \"I am\", \"He is\", etc."
   ]
  },
  {
   "cell_type": "code",
   "execution_count": 45,
   "metadata": {},
   "outputs": [],
   "source": [
    "MAX_LENGTH = 10\n",
    "\n",
    "eng_prefixes = ('i am ', 'i m ','you are ', 'you re ', 'he is ', ' he s ', 'she is ', 'she s ', 'we are ', 'we re ', 'they are ', 'they re ')\n",
    "\n",
    "def filterPair(p):\n",
    "    return len(p[0].split(' ')) < MAX_LENGTH and len(p[1].split(' ')) < MAX_LENGTH and p[1].startswith(eng_prefixes)\n",
    "\n",
    "def filterPairs(pairs):\n",
    "    return [pair for pair in pairs if filterPair(pair)]"
   ]
  },
  {
   "cell_type": "markdown",
   "metadata": {},
   "source": [
    "## Full preprocess"
   ]
  },
  {
   "cell_type": "code",
   "execution_count": 46,
   "metadata": {},
   "outputs": [
    {
     "name": "stdout",
     "output_type": "stream",
     "text": [
      "Reading lines...\n",
      "Read 149861 sentence pairs\n",
      "Trimmed to 10535 sentence pairs\n",
      "Counting words...\n",
      "Counted words:\n",
      "fra 4279\n",
      "eng 2737\n",
      "['je ne suis pas un grand photographe .', 'i m not a great photographer .']\n"
     ]
    }
   ],
   "source": [
    "import random\n",
    "\n",
    "def prepareData(lang1, lang2, reverse = False):\n",
    "    input_lang, output_lang, pairs = readLangs(lang1, lang2, reverse)\n",
    "    print('Read %d sentence pairs'%len(pairs))\n",
    "    pairs = filterPairs(pairs)\n",
    "    print('Trimmed to %d sentence pairs'%len(pairs))\n",
    "    print('Counting words...')\n",
    "    for pair in pairs:\n",
    "        input_lang.addSentence(pair[0])\n",
    "        output_lang.addSentence(pair[1])\n",
    "    print('Counted words:')\n",
    "    print(input_lang.name, input_lang.n_words)\n",
    "    print(output_lang.name, output_lang.n_words)\n",
    "    return input_lang, output_lang, pairs\n",
    "\n",
    "input_lang, output_lang, pairs = prepareData('fra', 'eng', True)\n",
    "example = random.choice(pairs)\n",
    "print(example)"
   ]
  },
  {
   "cell_type": "code",
   "execution_count": 2,
   "metadata": {},
   "outputs": [],
   "source": [
    "example = ['nous sommes fatigues .', 'we re helpless .']"
   ]
  },
  {
   "cell_type": "markdown",
   "metadata": {},
   "source": [
    "# Seq2seq model\n",
    "\n",
    "## Encoder"
   ]
  },
  {
   "cell_type": "code",
   "execution_count": 48,
   "metadata": {},
   "outputs": [],
   "source": [
    "import torch\n",
    "import torch.nn as nn\n",
    "from torch.autograd import Variable\n",
    "import torch.nn.functional as F\n",
    "\n",
    "USE_CUDA = False\n",
    "INPUT_SIZE = input_lang.n_words\n",
    "HIDDEN_SIZE = 256\n",
    "OUTPUT_SIZE = output_lang.n_words\n",
    "\n",
    "class EncoderRNN(nn.Module):\n",
    "    def __init__(self, input_size, hidden_size):\n",
    "        super(EncoderRNN,self).__init__()\n",
    "        self.hidden_size = hidden_size\n",
    "        self.embedding = nn.Embedding(input_size, hidden_size)\n",
    "        self.gru = nn.GRU(hidden_size, hidden_size)\n",
    "        \n",
    "    def forward(self, input, hidden):\n",
    "        embedded = self.embedding(input).view(1,1,-1)\n",
    "        output, hidden = self.gru(embedded, hidden)\n",
    "        return output, hidden\n",
    "    \n",
    "    def initHidden(self):\n",
    "        result = Variable(torch.zeros(1, 1, self.hidden_size))\n",
    "        if USE_CUDA:\n",
    "            return result.cuda()\n",
    "        else:\n",
    "            return result\n",
    "        \n",
    "encoder = EncoderRNN(INPUT_SIZE,HIDDEN_SIZE)"
   ]
  },
  {
   "cell_type": "markdown",
   "metadata": {},
   "source": [
    "## Decoder with Attention"
   ]
  },
  {
   "cell_type": "code",
   "execution_count": 56,
   "metadata": {},
   "outputs": [],
   "source": [
    "class AttnDecoderRNN(nn.Module):\n",
    "    def __init__(self, hidden_size, output_size, dropout_p = 0.1, max_length = MAX_LENGTH):\n",
    "        super(AttnDecoderRNN,self).__init__()\n",
    "        self.hidden_size = hidden_size\n",
    "        self.output_size = output_size\n",
    "        self.dropout_p = dropout_p\n",
    "        self.max_length = max_length\n",
    "        \n",
    "        self.embedding = nn.Embedding(output_size, hidden_size)\n",
    "        self.attn = nn.Linear(hidden_size *2, max_length)\n",
    "        self.attn_combine = nn.Linear(hidden_size*2, hidden_size)\n",
    "        self.dropout = nn.Dropout(dropout_p)\n",
    "        self.gru = nn.GRU(hidden_size, hidden_size)\n",
    "        self.out = nn.Linear(hidden_size,output_size)\n",
    "        \n",
    "    def forward(self,input,hidden,encoder_outputs):\n",
    "#         embedded = self.embedding(input).view(1,1,-1)\n",
    "#         embedded = self.dropout(embedded) #1, 1, 256\n",
    "#         # prev_hidden: 1, 1, 256\n",
    "#         attn_weights = self.attn(torch.cat([embedded,prev_hidden],2)) #1, 1, 10\n",
    "#         attn_weights = F.softmax(attn_weights,dim=2) #1, 1, 10\n",
    "#         encoder_outputs = encoder_outputs.unsqueeze(0) #1, 10, 256\n",
    "#         attn_applied = torch.bmm(attn_weights,encoder_outputs) # 1, 1, 256\n",
    "#         output = self.attn_combine(torch.cat([embedded,attn_applied],2)) #1, 1, 256\n",
    "#         output = F.relu(output) #1, 1, 256\n",
    "#         output, hidden = self.gru(output,prev_hidden) #1, 1, 256 ; 1, 1, 256\n",
    "#         output = self.out(output)\n",
    "#         output = F.softmax(output,dim=1)\n",
    "#         return output[0], hidden, attn_weights #1, 1, 256 ; 1, 1, 256 ; 1, 1, 10\n",
    "\n",
    "        embedded = self.embedding(input).view(1, 1, -1)\n",
    "        embedded = self.dropout(embedded)\n",
    "        attn_weights = F.softmax(\n",
    "            self.attn(torch.cat((embedded[0], hidden[0]), 1)), dim=1)\n",
    "        attn_applied = torch.bmm(attn_weights.unsqueeze(0),\n",
    "                                 encoder_outputs.unsqueeze(0))\n",
    "        output = torch.cat((embedded[0], attn_applied[0]), 1)\n",
    "        output = self.attn_combine(output).unsqueeze(0)\n",
    "        output = F.relu(output)\n",
    "        output, hidden = self.gru(output, hidden)\n",
    "        output = F.log_softmax(self.out(output[0]), dim=1)\n",
    "        return output, hidden, attn_weights\n",
    "    \n",
    "    def initHidden(self):\n",
    "        result = Variable(torch.zeros(1,1,self.hidden_size))\n",
    "        if USE_CUDA:\n",
    "            return result.cuda()\n",
    "        else:\n",
    "            return result"
   ]
  },
  {
   "cell_type": "markdown",
   "metadata": {},
   "source": [
    "## Test"
   ]
  },
  {
   "cell_type": "code",
   "execution_count": 21,
   "metadata": {},
   "outputs": [
    {
     "name": "stdout",
     "output_type": "stream",
     "text": [
      "Variable containing:\n",
      " 0.0456 -0.3023  0.0939  ...  -0.1898  0.1138  0.3477\n",
      "-0.1817  0.3257  0.0793  ...  -0.5152 -0.2456  0.0447\n",
      "-0.2697 -0.0340  0.3473  ...  -0.4264 -0.1177 -0.0347\n",
      "          ...             ⋱             ...          \n",
      " 0.0000  0.0000  0.0000  ...   0.0000  0.0000  0.0000\n",
      " 0.0000  0.0000  0.0000  ...   0.0000  0.0000  0.0000\n",
      " 0.0000  0.0000  0.0000  ...   0.0000  0.0000  0.0000\n",
      "[torch.FloatTensor of size 10x256]\n",
      "\n",
      "Variable containing:\n",
      " 39.9401\n",
      "[torch.FloatTensor of size 1]\n",
      "\n"
     ]
    }
   ],
   "source": [
    "input_var, target_var = example[0], example[1]\n",
    "encoder = EncoderRNN(INPUT_SIZE,HIDDEN_SIZE)\n",
    "encoder_hidden = encoder.initHidden()\n",
    "input_length = input_var.size()[0]\n",
    "encoder_outputs = Variable(torch.zeros(MAX_LENGTH, encoder.hidden_size))\n",
    "encoder_outputs = encoder_outputs.cuda() if USE_CUDA else encoder_outputs\n",
    "for ei in range(input_length):\n",
    "    encoder_output, encoder_hidden = encoder(input_var[ei], encoder_hidden)\n",
    "    encoder_outputs[ei] = encoder_output[0][0]     \n",
    "print(encoder_outputs)\n",
    "\n",
    "decoder = AttnDecoderRNN(HIDDEN_SIZE,OUTPUT_SIZE)\n",
    "decoder_hidden = decoder.initHidden()\n",
    "target_length = target_var.size()[0]\n",
    "loss = 0\n",
    "decoder_input = Variable(torch.LongTensor([[SOS_token]]))\n",
    "decoder_input = decoder_input.cuda() if USE_CUDA else decoder_input\n",
    "criterion = nn.NLLLoss()\n",
    "\n",
    "# Feed the target as the next input\n",
    "for di in range(target_length):\n",
    "    decoder_output, decoder_hidden, decoder_attn = decoder(decoder_input, decoder_hidden, encoder_outputs)\n",
    "    loss += criterion(decoder_output, target_var[di])\n",
    "    decoder_input = target_var[di]\n",
    "print(loss)"
   ]
  },
  {
   "cell_type": "markdown",
   "metadata": {},
   "source": [
    "# Training\n",
    "\n",
    "## Prepare data\n",
    "\n",
    "Get one hot vectors for each word in sentence."
   ]
  },
  {
   "cell_type": "code",
   "execution_count": 58,
   "metadata": {},
   "outputs": [],
   "source": [
    "def indexesFromSentence(lang,sentence):\n",
    "    return [lang.word2index[word] for word in sentence.split(' ')]\n",
    "\n",
    "def variableFromSentence(lang,sentence):\n",
    "    indexes = indexesFromSentence(lang,sentence)\n",
    "    indexes.append(EOS_token)\n",
    "    result = Variable(torch.LongTensor(indexes).view(-1,1))\n",
    "    if USE_CUDA:\n",
    "        return result.cuda()\n",
    "    else:\n",
    "        return result\n",
    "    \n",
    "def variablesFromPair(pair):\n",
    "    input_variable = variableFromSentence(input_lang,pair[0])\n",
    "    target_variable = variableFromSentence(output_lang,pair[1])\n",
    "    return (input_variable, target_variable)\n",
    "\n",
    "input_var, target_var = variablesFromPair(example)"
   ]
  },
  {
   "cell_type": "markdown",
   "metadata": {},
   "source": [
    "## Training with teacher forcing"
   ]
  },
  {
   "cell_type": "code",
   "execution_count": 61,
   "metadata": {},
   "outputs": [
    {
     "data": {
      "text/plain": [
       "7.960744380950928"
      ]
     },
     "execution_count": 61,
     "metadata": {},
     "output_type": "execute_result"
    }
   ],
   "source": [
    "TEACHER_FORCING_RATIO = 0.5\n",
    "import torch.optim as optim\n",
    "\n",
    "def train(input_var, target_var, encoder, decoder, encoder_optimizer, decoder_optimizer, \n",
    "          criterion, max_length=MAX_LENGTH):\n",
    "    \n",
    "    encoder_hidden = encoder.initHidden()\n",
    "    decoder_hidden = encoder_hidden\n",
    "    \n",
    "    encoder_optimizer.zero_grad()\n",
    "    decoder_optimizer.zero_grad()\n",
    "    \n",
    "    input_length = input_var.size()[0]\n",
    "    target_length = target_var.size()[0]\n",
    "    \n",
    "    encoder_outputs = Variable(torch.zeros(max_length, encoder.hidden_size))\n",
    "    encoder_outputs = encoder_outputs.cuda() if USE_CUDA else encoder_outputs\n",
    "    \n",
    "    loss = 0\n",
    "    \n",
    "    for ei in range(input_length):\n",
    "        encoder_output, encoder_hidden = encoder(input_var[ei], encoder_hidden)\n",
    "        encoder_outputs[ei] = encoder_output[0][0]\n",
    "        \n",
    "    decoder_input = Variable(torch.LongTensor([[SOS_token]]))\n",
    "    decoder_input = decoder_input.cuda() if USE_CUDA else decoder_input\n",
    "    \n",
    "    use_teacher_forcing = True if random.random() < TEACHER_FORCING_RATIO else False\n",
    "    \n",
    "    if use_teacher_forcing:\n",
    "        # Feed the target as the next input\n",
    "        for di in range(target_length):\n",
    "            decoder_output, decoder_hidden, decoder_attn = decoder(decoder_input, decoder_hidden, encoder_outputs)\n",
    "            loss += criterion(decoder_output, target_var[di])\n",
    "            decoder_input = target_var[di]\n",
    "            \n",
    "    else:\n",
    "        for di in range(target_length):\n",
    "            decoder_output, decoder_hidden, decoder_attn = decoder(decoder_input, decoder_hidden, encoder_outputs)\n",
    "            loss += criterion(decoder_output, target_var[di])\n",
    "            topv, topi = decoder_output.data.topk(1)\n",
    "            ni = topi[0][0]\n",
    "            decoder_input = Variable(torch.LongTensor([[ni]]))\n",
    "            decoder_input = decoder_input.cuda() if USE_CUDA else decoder_input\n",
    "            if ni == EOS_token:\n",
    "                break\n",
    "                \n",
    "    loss.backward()\n",
    "    \n",
    "    encoder_optimizer.step()\n",
    "    decoder_optimizer.step()\n",
    "    \n",
    "    return loss.data[0] / target_length\n",
    "\n",
    "encoder_opt = optim.SGD(encoder.parameters(), lr=0.01)\n",
    "decoder_opt = optim.SGD(encoder.parameters(), lr=0.01)\n",
    "train(input_var,target_var,encoder,decoder,encoder_opt,decoder_opt,nn.NLLLoss())"
   ]
  },
  {
   "cell_type": "markdown",
   "metadata": {},
   "source": [
    "## Keep track of time"
   ]
  },
  {
   "cell_type": "code",
   "execution_count": 23,
   "metadata": {},
   "outputs": [],
   "source": [
    "import time, math\n",
    "\n",
    "def asMinutes(s):\n",
    "    m = math.floor(s/60)\n",
    "    s -= m*60\n",
    "    return '%dm %ds' % (m,s)\n",
    "\n",
    "def timeSince(since,percent):\n",
    "    now = time.time()\n",
    "    s = now - since\n",
    "    es = s / (percent)\n",
    "    rs = es - s\n",
    "    return '%s (- %s)' % (asMinutes(s),asMinutes(rs))"
   ]
  },
  {
   "cell_type": "markdown",
   "metadata": {},
   "source": [
    "## Plot results"
   ]
  },
  {
   "cell_type": "code",
   "execution_count": 24,
   "metadata": {},
   "outputs": [],
   "source": [
    "import matplotlib.pyplot as plt\n",
    "import matplotlib.ticker as ticker\n",
    "import numpy as np\n",
    "\n",
    "def showPlot(points):\n",
    "#     plt.figure()\n",
    "#     fig, ax = plt.subplots()\n",
    "#     # this locator puts ticks at regular intervals\n",
    "#     loc = ticker.MultipleLocator(base=0.2)\n",
    "#     ax.yaxis.set_major_locator(loc)\n",
    "#     plt.plot(points)    \n",
    "    plt.figure()\n",
    "    plt.plot(points)\n",
    "    plt.show()"
   ]
  },
  {
   "cell_type": "markdown",
   "metadata": {},
   "source": [
    "## Full training process"
   ]
  },
  {
   "cell_type": "code",
   "execution_count": 75,
   "metadata": {},
   "outputs": [],
   "source": [
    "def trainIters(encoder, decoder, n_iters, print_every=1000, plot_every=100, learning_rate=0.01):\n",
    "    start = time.time()\n",
    "    plot_losses = []\n",
    "    print_loss_total = 0 # reset every print_every\n",
    "    plot_loss_total = 0 # reset every plot_every\n",
    "    \n",
    "    encoder_optimizer = optim.SGD(encoder.parameters(), lr = learning_rate)\n",
    "    decoder_optimizer = optim.SGD(decoder.parameters(), lr = learning_rate)\n",
    "    training_pairs = [variablesFromPair(random.choice(pairs)) for i in range(n_iters)]\n",
    "    criterion = nn.NLLLoss()\n",
    "    \n",
    "    for iter in range(1, n_iters + 1):\n",
    "        training_pair = training_pairs[iter - 1]\n",
    "        input_variable = training_pair[0]\n",
    "        target_variable = training_pair[1]\n",
    "\n",
    "        loss = train(input_variable, target_variable, encoder,\n",
    "                     decoder, encoder_optimizer, decoder_optimizer, criterion)\n",
    "        print_loss_total += loss\n",
    "        plot_loss_total += loss\n",
    "        \n",
    "\n",
    "        if iter % print_every == 0:\n",
    "            print_loss_avg = print_loss_total / print_every\n",
    "            print_loss_total = 0\n",
    "            print('%s (%d %d%%) %.4f' % (timeSince(start, iter / n_iters),\n",
    "                                         iter, iter / n_iters * 100, print_loss_avg))\n",
    "\n",
    "        if iter % plot_every == 0:\n",
    "            plot_loss_avg = plot_loss_total / plot_every\n",
    "            plot_losses.append(plot_loss_avg)\n",
    "            plot_loss_total = 0\n",
    "            \n",
    "    showPlot(plot_losses)"
   ]
  },
  {
   "cell_type": "code",
   "execution_count": 97,
   "metadata": {},
   "outputs": [
    {
     "name": "stdout",
     "output_type": "stream",
     "text": [
      "1m 38s (- 121m 14s) (1000 1%) 3.4650\n",
      "3m 17s (- 120m 19s) (2000 2%) 2.9358\n",
      "4m 59s (- 119m 58s) (3000 4%) 2.7427\n",
      "6m 58s (- 123m 46s) (4000 5%) 2.6516\n",
      "9m 15s (- 129m 43s) (5000 6%) 2.5399\n",
      "10m 56s (- 125m 54s) (6000 8%) 2.4275\n",
      "12m 38s (- 122m 44s) (7000 9%) 2.4259\n",
      "14m 19s (- 119m 54s) (8000 10%) 2.3055\n",
      "16m 1s (- 117m 28s) (9000 12%) 2.2299\n",
      "17m 42s (- 115m 8s) (10000 13%) 2.1838\n",
      "19m 25s (- 112m 59s) (11000 14%) 2.1186\n",
      "21m 5s (- 110m 44s) (12000 16%) 2.0941\n",
      "22m 46s (- 108m 38s) (13000 17%) 2.0067\n",
      "24m 25s (- 106m 27s) (14000 18%) 1.9747\n",
      "26m 5s (- 104m 22s) (15000 20%) 1.9007\n",
      "27m 43s (- 102m 13s) (16000 21%) 1.8774\n",
      "29m 22s (- 100m 14s) (17000 22%) 1.8721\n",
      "31m 2s (- 98m 19s) (18000 24%) 1.8189\n",
      "32m 43s (- 96m 25s) (19000 25%) 1.7782\n",
      "34m 22s (- 94m 32s) (20000 26%) 1.8014\n",
      "36m 4s (- 92m 47s) (21000 28%) 1.7350\n",
      "37m 44s (- 90m 55s) (22000 29%) 1.6836\n",
      "39m 23s (- 89m 4s) (23000 30%) 1.6505\n",
      "41m 3s (- 87m 14s) (24000 32%) 1.6009\n",
      "42m 43s (- 85m 27s) (25000 33%) 1.6417\n",
      "44m 24s (- 83m 41s) (26000 34%) 1.5399\n",
      "46m 4s (- 81m 54s) (27000 36%) 1.5347\n",
      "47m 46s (- 80m 11s) (28000 37%) 1.4711\n",
      "49m 27s (- 78m 27s) (29000 38%) 1.5004\n",
      "51m 7s (- 76m 41s) (30000 40%) 1.4593\n",
      "52m 48s (- 74m 56s) (31000 41%) 1.4298\n",
      "54m 28s (- 73m 12s) (32000 42%) 1.4167\n",
      "56m 9s (- 71m 28s) (33000 44%) 1.4299\n",
      "57m 51s (- 69m 45s) (34000 45%) 1.3816\n",
      "59m 31s (- 68m 2s) (35000 46%) 1.4278\n",
      "61m 12s (- 66m 18s) (36000 48%) 1.5074\n",
      "62m 52s (- 64m 34s) (37000 49%) 1.4330\n",
      "64m 32s (- 62m 50s) (38000 50%) 1.3724\n",
      "66m 12s (- 61m 7s) (39000 52%) 1.3193\n",
      "67m 53s (- 59m 24s) (40000 53%) 1.2676\n",
      "69m 34s (- 57m 41s) (41000 54%) 1.2373\n",
      "71m 15s (- 55m 59s) (42000 56%) 1.2540\n",
      "72m 55s (- 54m 16s) (43000 57%) 1.2370\n",
      "74m 35s (- 52m 33s) (44000 58%) 1.2523\n",
      "76m 16s (- 50m 50s) (45000 60%) 1.2629\n",
      "77m 56s (- 49m 8s) (46000 61%) 1.2043\n",
      "79m 36s (- 47m 25s) (47000 62%) 1.1544\n",
      "81m 17s (- 45m 43s) (48000 64%) 1.2200\n",
      "82m 57s (- 44m 1s) (49000 65%) 1.0785\n",
      "84m 36s (- 42m 18s) (50000 66%) 1.1387\n",
      "86m 17s (- 40m 36s) (51000 68%) 1.1140\n",
      "87m 58s (- 38m 54s) (52000 69%) 1.0943\n",
      "89m 39s (- 37m 12s) (53000 70%) 1.0816\n",
      "91m 19s (- 35m 30s) (54000 72%) 1.0713\n",
      "93m 0s (- 33m 49s) (55000 73%) 1.0782\n",
      "94m 40s (- 32m 7s) (56000 74%) 1.0861\n",
      "96m 20s (- 30m 25s) (57000 76%) 0.9868\n",
      "98m 1s (- 28m 43s) (58000 77%) 1.0047\n",
      "99m 41s (- 27m 2s) (59000 78%) 1.0542\n",
      "101m 21s (- 25m 20s) (60000 80%) 0.9758\n",
      "103m 2s (- 23m 38s) (61000 81%) 1.0123\n",
      "104m 43s (- 21m 57s) (62000 82%) 1.0076\n",
      "106m 24s (- 20m 16s) (63000 84%) 1.0110\n",
      "108m 4s (- 18m 34s) (64000 85%) 0.9331\n",
      "109m 45s (- 16m 53s) (65000 86%) 0.9760\n",
      "111m 26s (- 15m 11s) (66000 88%) 0.9880\n",
      "113m 7s (- 13m 30s) (67000 89%) 0.9946\n",
      "114m 47s (- 11m 48s) (68000 90%) 0.9502\n",
      "116m 27s (- 10m 7s) (69000 92%) 0.9893\n",
      "118m 7s (- 8m 26s) (70000 93%) 0.9445\n",
      "119m 47s (- 6m 44s) (71000 94%) 0.9110\n",
      "121m 27s (- 5m 3s) (72000 96%) 0.9337\n",
      "123m 8s (- 3m 22s) (73000 97%) 0.9521\n",
      "124m 49s (- 1m 41s) (74000 98%) 0.9230\n",
      "126m 29s (- 0m 0s) (75000 100%) 0.8968\n"
     ]
    },
    {
     "data": {
      "image/png": "[encoded data removed]",
      "text/plain": [
       "<matplotlib.figure.Figure at 0x10e862e48>"
      ]
     },
     "metadata": {},
     "output_type": "display_data"
    }
   ],
   "source": [
    "hidden_size = 256\n",
    "encoder1 = EncoderRNN(input_lang.n_words, hidden_size)\n",
    "attn_decoder1 = AttnDecoderRNN(hidden_size, output_lang.n_words, dropout_p=0.1)\n",
    "\n",
    "if USE_CUDA:\n",
    "    encoder1 = encoder1.cuda()\n",
    "    attn_decoder1 = attn_decoder1.cuda()\n",
    "\n",
    "all_losses = trainIters(encoder1, attn_decoder1, 75000, learning_rate=0.01, print_every=1000)"
   ]
  },
  {
   "cell_type": "code",
   "execution_count": null,
   "metadata": {},
   "outputs": [],
   "source": [
    "# print(all_losses)\n",
    "showPlot(all_losses)"
   ]
  },
  {
   "cell_type": "code",
   "execution_count": 93,
   "metadata": {},
   "outputs": [],
   "source": [
    "def evaluate(encoder, decoder, sentence, max_length=MAX_LENGTH):\n",
    "    input_variable = variableFromSentence(input_lang, sentence)\n",
    "    input_length = input_variable.size()[0]\n",
    "    encoder_hidden = encoder.initHidden()\n",
    "\n",
    "    encoder_outputs = Variable(torch.zeros(max_length, encoder.hidden_size))\n",
    "    encoder_outputs = encoder_outputs.cuda() if use_cuda else encoder_outputs\n",
    "\n",
    "    for ei in range(input_length):\n",
    "        encoder_output, encoder_hidden = encoder(input_variable[ei],\n",
    "                                                 encoder_hidden)\n",
    "        encoder_outputs[ei] = encoder_outputs[ei] + encoder_output[0][0]\n",
    "\n",
    "    decoder_input = Variable(torch.LongTensor([[SOS_token]]))  # SOS\n",
    "    decoder_input = decoder_input.cuda() if use_cuda else decoder_input\n",
    "\n",
    "    decoder_hidden = encoder_hidden\n",
    "\n",
    "    decoded_words = []\n",
    "    decoder_attentions = torch.zeros(max_length, max_length)\n",
    "\n",
    "    for di in range(max_length):\n",
    "        decoder_output, decoder_hidden, decoder_attention = decoder(\n",
    "            decoder_input, decoder_hidden, encoder_outputs)\n",
    "        decoder_attentions[di] = decoder_attention.data\n",
    "        topv, topi = decoder_output.data.topk(1)\n",
    "        ni = topi[0][0]\n",
    "        if ni == EOS_token:\n",
    "            decoded_words.append('<EOS>')\n",
    "            break\n",
    "        else:\n",
    "            decoded_words.append(output_lang.index2word[ni])\n",
    "\n",
    "        decoder_input = Variable(torch.LongTensor([[ni]]))\n",
    "        decoder_input = decoder_input.cuda() if use_cuda else decoder_input\n",
    "        \n",
    "    return decoded_words, decoder_attentions[:di + 1]"
   ]
  },
  {
   "cell_type": "code",
   "execution_count": 95,
   "metadata": {},
   "outputs": [],
   "source": [
    "def evaluateRandomly(encoder, decoder, n=10):\n",
    "    for i in range(n):\n",
    "        pair = random.choice(pairs)\n",
    "        print('>', pair[0])\n",
    "        print('=', pair[1])\n",
    "        output_words, attentions = evaluate(encoder, decoder, pair[0])\n",
    "        output_sentence = ' '.join(output_words)\n",
    "        print('<', output_sentence)\n",
    "        print('')"
   ]
  },
  {
   "cell_type": "code",
   "execution_count": 100,
   "metadata": {},
   "outputs": [
    {
     "name": "stdout",
     "output_type": "stream",
     "text": [
      "> vous etes tres occupes .\n",
      "= you re very busy .\n",
      "< you re very busy . <EOS>\n",
      "\n",
      "> je vais faire autre chose .\n",
      "= i m going to do something else .\n",
      "< i m going to figure this . <EOS>\n",
      "\n",
      "> je ne suis pas votre bonne .\n",
      "= i m not your maid .\n",
      "< i m not your maid . <EOS>\n",
      "\n",
      "> nous travaillons a l instant .\n",
      "= we re working at the moment .\n",
      "< we re working at playing . <EOS>\n",
      "\n",
      "> nous sommes toutes dingues .\n",
      "= we re all crazy .\n",
      "< we re all crazy . <EOS>\n",
      "\n",
      "> nous ne sommes pas interessees .\n",
      "= we re not interested .\n",
      "< we re not dead . <EOS>\n",
      "\n",
      "> je suis la pour te proteger .\n",
      "= i m here to protect you .\n",
      "< i m the little makes you . <EOS>\n",
      "\n",
      "> je suis plutot occupe ce soir .\n",
      "= i m kind of busy tonight .\n",
      "< i m rather busy tonight . <EOS>\n",
      "\n",
      "> j arrive .\n",
      "= i am coming .\n",
      "< i m fine . <EOS>\n",
      "\n",
      "> je suis strict .\n",
      "= i m strict .\n",
      "< i m strict . <EOS>\n",
      "\n"
     ]
    }
   ],
   "source": [
    "e, d = encoder1, attn_decoder1\n",
    "evaluateRandomly(encoder1, attn_decoder1)"
   ]
  },
  {
   "cell_type": "markdown",
   "metadata": {},
   "source": [
    "## Visualizing Attention"
   ]
  },
  {
   "cell_type": "code",
   "execution_count": 112,
   "metadata": {},
   "outputs": [
    {
     "name": "stdout",
     "output_type": "stream",
     "text": [
      "input = c est un jeune directeur plein de talent .\n",
      "output = she is a very good with . <EOS>\n"
     ]
    },
    {
     "data": {
      "image/png": "[encoded data removed]",
      "text/plain": [
       "<matplotlib.figure.Figure at 0x10cb752e8>"
      ]
     },
     "metadata": {},
     "output_type": "display_data"
    }
   ],
   "source": [
    "s = \"j ai faim .\"\n",
    "\n",
    "def showAttention(input_sentence, output_words, attentions):\n",
    "    fig = plt.figure()\n",
    "    ax = fig.add_subplot(111)\n",
    "    cax = ax.matshow(attentions.numpy(), cmap='bone')\n",
    "    fig.colorbar(cax)\n",
    "    # set up axes\n",
    "    ax.set_xticklabels([''] + input_sentence.split() + ['<EOS>'], rotation=90)\n",
    "    ax.set_yticklabels([''] + output_words)\n",
    "    # show label at every tick\n",
    "    ax.xaxis.set_major_locator(ticker.MultipleLocator(1))\n",
    "    ax.xaxis.set_major_locator(ticker.MultipleLocator(1))\n",
    "    plt.show()\n",
    "    \n",
    "def evaluateAndShowAttention(input_sentence):\n",
    "    output_words, attentions = evaluate(encoder1, attn_decoder1, input_sentence)\n",
    "    print('input =', input_sentence)\n",
    "    print('output =', ' '.join(output_words))\n",
    "    showAttention(input_sentence, output_words, attentions)\n",
    "    \n",
    "evaluateAndShowAttention('c est un jeune directeur plein de talent .')"
   ]
  },
  {
   "cell_type": "code",
   "execution_count": null,
   "metadata": {},
   "outputs": [],
   "source": []
  }
 ],
 "metadata": {
  "kernelspec": {
   "display_name": "Python 3",
   "language": "python",
   "name": "python3"
  },
  "language_info": {
   "codemirror_mode": {
    "name": "ipython",
    "version": 3
   },
   "file_extension": ".py",
   "mimetype": "text/x-python",
   "name": "python",
   "nbconvert_exporter": "python",
   "pygments_lexer": "ipython3",
   "version": "3.6.3"
  }
 },
 "nbformat": 4,
 "nbformat_minor": 2
}
