{
 "cells": [
  {
   "cell_type": "markdown",
   "metadata": {},
   "source": [
    "The goal is to classify pairs of sentences as \"entailment\", \"neutral\" or \"contradiction\".\n",
    "\"entailment\": one sentence can be deduced from the other.\n",
    "\"contraadiction\": One sentence contradicts the other.\n",
    "\"neutral\": the sentences do not entail or contradict each others.\n",
    "    \n",
    "The idea is to compute a similarity score between the sentences to then classify them in one of the 3 categories.\n",
    "The sentence simiralirity score will be based on words similarity scores:\n",
    "for each word in the sentence, we will compute a similaritry score with every other word in the sentence.\n",
    "\n",
    "We will use simple NN, that we will feed with word vectors from a pretrained Glove dataset."
   ]
  },
  {
   "cell_type": "markdown",
   "metadata": {},
   "source": [
    "# Loading Glove vectors\n",
    "\n",
    "We use Glove vectors as the input of our NN.\n",
    "Those functions help manipulate (read) this dataset."
   ]
  },
  {
   "cell_type": "code",
   "execution_count": 1,
   "metadata": {},
   "outputs": [
    {
     "name": "stdout",
     "output_type": "stream",
     "text": [
      "...loading glove\n",
      "Loaded 400000 word vectors from Glove\n"
     ]
    }
   ],
   "source": [
    "import numpy as np\n",
    "import torch\n",
    "from torch.autograd import Variable\n",
    "\n",
    "glove_path = \"NLI/glove.6B/glove.6B.200d.txt\"\n",
    "\n",
    "\n",
    "def load_glove_embeddings(path, word2idx, embedding_dim=50):\n",
    "    with open(path) as f:\n",
    "        embeddings = np.zeros((len(word2idx), embedding_dim))\n",
    "        for line in f.readlines():\n",
    "            values = line.split()\n",
    "            word = values[0]\n",
    "            index = word2idx.get(word)\n",
    "            if index:\n",
    "                vector = np.array(values[1:], dtype='float32')\n",
    "                embeddings[index] = vector\n",
    "        return torch.from_numpy(embeddings).float()\n",
    "\n",
    "def load_glove(path,limit=1000000000):\n",
    "    with open(path) as f:\n",
    "        glove = {}\n",
    "        i = 0\n",
    "        for line in f.readlines():\n",
    "            if i < limit:\n",
    "                values = line.split()\n",
    "                word = values[0]\n",
    "                my_array = [float(x) for x in values[1:]]\n",
    "                #normalize to l2 = 1\n",
    "                norm2 = np.linalg.norm(np.array(my_array),2)\n",
    "                my_array = my_array / norm2\n",
    "                vector = torch.FloatTensor([my_array])\n",
    "                # vector = Variable(vector)\n",
    "                glove[word] = vector\n",
    "            else:\n",
    "                break\n",
    "            i += 1\n",
    "        return glove\n",
    "\n",
    "print(\"...loading glove\")\n",
    "glove = load_glove(path=glove_path)\n",
    "print(\"Loaded %d word vectors from Glove\"%len(glove))"
   ]
  },
  {
   "cell_type": "markdown",
   "metadata": {},
   "source": [
    "# SNLI dataset\n",
    "\n",
    "## Loading SNLI dataset"
   ]
  },
  {
   "cell_type": "code",
   "execution_count": 2,
   "metadata": {},
   "outputs": [],
   "source": [
    "import json\n",
    "\n",
    "SNLI_path = \"NLI/snli_1.0/snli_1.0_train.jsonl\"\n",
    "\n",
    "def loadSNLI(path,limit=100000000000):\n",
    "    print(\"...loading SNLI dataset\")\n",
    "    SNLI_train = list()\n",
    "    i = 0\n",
    "    for line in open(path, 'r'):\n",
    "        if i <limit:\n",
    "            data = json.loads(line)\n",
    "            if data['gold_label'] != '-':\n",
    "                SNLI_train.append(data)\n",
    "                i += 1\n",
    "        else:\n",
    "            print(\"Loaded %d pairs of sentences from SNLI dataset\"%len(SNLI_train))\n",
    "            return SNLI_train\n",
    "    print(\"Loaded %d pairs of sentences from SNLI dataset\"%len(SNLI_train))\n",
    "    return SNLI_train"
   ]
  },
  {
   "cell_type": "code",
   "execution_count": 302,
   "metadata": {},
   "outputs": [
    {
     "name": "stdout",
     "output_type": "stream",
     "text": [
      "...loading SNLI dataset\n",
      "Loaded 549367 pairs of sentences from SNLI dataset\n"
     ]
    }
   ],
   "source": [
    "SNLI_train = loadSNLI(SNLI_path)"
   ]
  },
  {
   "cell_type": "markdown",
   "metadata": {},
   "source": [
    "## Preprocessing SNLI dataset\n",
    "\n",
    "Tokenize + get word vectors.\n",
    "\n",
    "### Tokenize dataset\n",
    "\n",
    "We need to tokenize the dataset: string sentence --> list of words sentence.\n",
    "The OOV class will help determine if a word is OOV and keep track of the number of OOV words in our dataset."
   ]
  },
  {
   "cell_type": "code",
   "execution_count": 3,
   "metadata": {},
   "outputs": [],
   "source": [
    "class OOV:\n",
    "\tdef __init__(self,glove):\n",
    "\t\tself.OOVlist = list()\n",
    "\t\tself.numberOfPairsWithOOV = 0\n",
    "\t\tself.wordVectors = glove\n",
    "\n",
    "\tdef getData(self):\n",
    "\t\t# print(self.OOVlist)\n",
    "\t\treturn len(self.OOVlist), self.numberOfPairsWithOOV\n",
    "\n",
    "\tdef countOOVinCorpus(self,sentence):\n",
    "\t\tb = False\n",
    "\t\tfor word in sentence:\n",
    "\t\t\tif self.isOOV(word) and word not in self.OOVlist:\n",
    "\t\t\t\tself.OOVlist.append(word)\n",
    "\t\t\t\tb = True\n",
    "\t\tself.numberOfPairsWithOOV += 1 if b else 0\n",
    "\n",
    "\tdef isOOV(self,word):\n",
    "\t\tvect = self.wordVectors.get(word)\n",
    "\t\ttry:\n",
    "\t\t\t_ = vect.shape\n",
    "\t\texcept AttributeError:\n",
    "\t\t\t# print(\"Could not find vector for \"+word)\n",
    "\t\t\treturn True\n",
    "\t\treturn False"
   ]
  },
  {
   "cell_type": "markdown",
   "metadata": {},
   "source": [
    "We define helper functions to tokenize the dataset."
   ]
  },
  {
   "cell_type": "code",
   "execution_count": 4,
   "metadata": {},
   "outputs": [
    {
     "name": "stdout",
     "output_type": "stream",
     "text": [
      "['<s>', 'i', 'can', 'n', \"'\", 't', 'open', 'the', 'door', 'because', 'the', '30-year', 'old', '/', 'blond', '-', 'hair', 'guy', 'does', 'n', \"'\", 't', 'want', 'to', 'let', 'me', 'in', '.', 'he', \"'\", 's', 'mean', ',', 'is', 'n', \"'\", 't', 'he', '?', 'i', 'can', 'n', \"'\", 't', 'go', 'in', '!', 'there', \"'\", 's', 'not', 'other', 'way', '!', '</s>']\n"
     ]
    }
   ],
   "source": [
    "import re\n",
    "\n",
    "def processFinalPeriod(sentence1):\n",
    "\tif (sentence1[len(sentence1)-1] == \".\"):\n",
    "\t\tsentence1 = sentence1[:len(sentence1)-2] + \" .\"\n",
    "\n",
    "def insertCharIfSeq(sentence1,c,seq):\n",
    "\ti = 0\n",
    "\tindexes = [m.start() for m in re.finditer(seq, sentence1)]\n",
    "\tfor index in indexes:\n",
    "\t\tsentence1 = sentence1[:index+i] + c + sentence1[index+i:]\n",
    "\t\ti += 1\n",
    "\treturn sentence1\n",
    "\n",
    "def processContractions(sentence1):\n",
    "\tsentence1 = insertCharIfSeq(sentence1,\" \",\"'s\")\n",
    "\tsentence1 = insertCharIfSeq(sentence1,\" \",\"'m\")\n",
    "\tsentence1 = insertCharIfSeq(sentence1,\" \",\"'ll\")\n",
    "\tsentence1 = insertCharIfSeq(sentence1,\" \",\"'ve\")\n",
    "\tsentence1 = insertCharIfSeq(sentence1,\" \",\"'re\")\n",
    "\tsentence1 = insertCharIfSeq(sentence1,\" \",\"'d\")\n",
    "\treturn sentence1\n",
    "\n",
    "\n",
    "def processNegatives(sentence1):\n",
    "\ti = 0\n",
    "\tindexes = [m.start() for m in re.finditer(\"can't\", sentence1)]\n",
    "\tfor index in indexes:\n",
    "\t\tsentence1 = sentence1[:index+i+3] + sentence1[index+i+2:]\n",
    "\t\ti += 1\n",
    "\treturn insertCharIfSeq(sentence1,\" \",\"n't\")\n",
    "\n",
    "def processHyphenIfUnknownWords(words,glove):\t\n",
    "\tindexes = []\n",
    "\tnew_words = []\n",
    "\ti = 0\n",
    "\tmyOOV = OOV(glove)\n",
    "\tfor w in words:\n",
    "\t\tif \"-\" in w and myOOV.isOOV(w):\n",
    "\t\t\tindexes.append(i)\n",
    "\t\t\tnew_words += w.split(\"-\")\n",
    "\t\t\ti += 3\n",
    "\t\telse:\n",
    "\t\t\ti += 1\n",
    "\ti = 0\n",
    "\tfor i in range(len(indexes)):\n",
    "\t\tindex = indexes[i]\n",
    "\t\tdel words[index]\n",
    "\t\t# print (words)\n",
    "\t\twords.insert(index,new_words[i*2])\n",
    "\t\twords.insert(index+1,\"-\")\n",
    "\t\twords.insert(index+2,new_words[i*2+1])\n",
    "\treturn words\n",
    "\n",
    "def tokeniszeSentence(sentence1,glove):\n",
    "\tprocessFinalPeriod(sentence1)\n",
    "\tsentence1 = processContractions(sentence1)\n",
    "\tsentence1 = processNegatives(sentence1)\n",
    "\ts = sentence1.lower()\n",
    "\ts = re.sub('''([.,!'\"?$;:/#`()])''', r' \\1 ', s)\n",
    "\ts = re.sub('\\s{2,}', ' ', s)\n",
    "\ts = s.split()\n",
    "\ts = processHyphenIfUnknownWords(s,glove)\n",
    "\ts.append('</s>')\n",
    "\ts = ['<s>'] + s\n",
    "\treturn s\n",
    "\n",
    "def testTokenizeSentence():\n",
    "\tsentence1 = \"I can't open the door because the 30-year old/blond-hair guy doesn't want to let me in. He's mean, isn't he? I can't go in! There's not other way!\"\n",
    "\t# sentence1= \"red-hair blond-hair noisette black-hair\"\n",
    "\twords = tokeniszeSentence(sentence1,glove)\n",
    "\tprint(words)\n",
    "    \n",
    "testTokenizeSentence()\n",
    "myOOV = OOV(glove)"
   ]
  },
  {
   "cell_type": "markdown",
   "metadata": {},
   "source": [
    "### Tokenizing and getting word vectors for dataset"
   ]
  },
  {
   "cell_type": "code",
   "execution_count": 5,
   "metadata": {},
   "outputs": [],
   "source": [
    "def tokenizeDataset(dataset):\n",
    "    print(\"...tokenizing and getting word embeddings for SNLI dataset\")\n",
    "    sentencesOOVwords = 0\n",
    "    OOVwords = []\n",
    "    dataset_tokenized = dict()\n",
    "    for i in range(len(dataset)):\n",
    "        # if i<15:\n",
    "        sentence1 = tokeniszeSentence(dataset[i][\"sentence1\"],glove)\n",
    "        sentence2 = tokeniszeSentence(dataset[i][\"sentence2\"],glove)\n",
    "        dataset_tokenized[i]=dict()\n",
    "        dataset_tokenized[i][\"sentence1\"] = sentence1\n",
    "        dataset_tokenized[i][\"sentence2\"] = sentence2\n",
    "        myOOV.countOOVinCorpus(sentence1+sentence2)\n",
    "    \n",
    "    nOOVWwords, nPairsOOVwords = myOOV.getData()\n",
    "    print(\"%d OOV words\"%nOOVWwords)\n",
    "    print(\"%d pairs of sentences have OOV words for a total of %d sentence pairs\" \n",
    "          %(nPairsOOVwords,len(dataset)))\n",
    "    \n",
    "    return dataset_tokenized"
   ]
  },
  {
   "cell_type": "code",
   "execution_count": 44,
   "metadata": {},
   "outputs": [],
   "source": [
    "import random\n",
    "\n",
    "def semiSort(SNLI):\n",
    "    SNLI_len10, SNLI_len20, SNLI_len30, SNLI_len40, SNLIlen50, SNLI_long = [], [], [], [], [], []\n",
    "    for i in range(len(SNLI)):\n",
    "        l1, l2 = len(SNLI[i]['sentence1']), len(SNLI[i]['sentence2'])\n",
    "        l = l1 if l1>l2 else l2\n",
    "        if l<10:\n",
    "            SNLI_len10.append(SNLI[i])\n",
    "        elif l<20:\n",
    "            SNLI_len20.append(SNLI[i])\n",
    "        elif l<50:\n",
    "            SNLI_len30.append(SNLI[i])\n",
    "        elif l<50:\n",
    "            SNLI_len40.append(SNLI[i])\n",
    "        elif l<50:\n",
    "            SNLI_len50.append(SNLI[i])\n",
    "        elif l<50:\n",
    "            SNLI_long.append(SNLI[i])\n",
    "    return SNLI_len10 + SNLI_len20 + SNLI_len30 + SNLI_len40 + SNLIlen50 + SNLI_long\n",
    "\n",
    "def loadAndPreprocessDataset(path):\n",
    "    SNLI = loadSNLI(path)\n",
    "    random.shuffle(SNLI)\n",
    "    SNLI = semiSort(SNLI)\n",
    "    tokenized_SNLI = tokenizeDataset(SNLI)\n",
    "    return SNLI, tokenized_SNLI    "
   ]
  },
  {
   "cell_type": "code",
   "execution_count": 45,
   "metadata": {},
   "outputs": [
    {
     "name": "stdout",
     "output_type": "stream",
     "text": [
      "...loading SNLI dataset\n",
      "Loaded 549367 pairs of sentences from SNLI dataset\n",
      "...tokenizing and getting word embeddings for SNLI dataset\n",
      "6159 OOV words\n",
      "6023 pairs of sentences have OOV words for a total of 157582 sentence pairs\n"
     ]
    }
   ],
   "source": [
    "SNLI_train, SNLI_train_tokenized = loadAndPreprocessDataset('NLI/snli_1.0/snli_1.0_train.jsonl')"
   ]
  },
  {
   "cell_type": "code",
   "execution_count": 48,
   "metadata": {},
   "outputs": [
    {
     "name": "stdout",
     "output_type": "stream",
     "text": [
      "a cyclist\n",
      "A biker\n",
      "entailment\n",
      "A dog in a field.\n",
      "A dog is outdoors.\n",
      "entailment\n",
      "Two wet dogs.\n",
      "two dogs in rain\n",
      "neutral\n",
      "A dog in a field.\n",
      "a cat in a hamock\n",
      "contradiction\n",
      "A baby is laughing.\n",
      "A baby is crying.\n",
      "contradiction\n"
     ]
    }
   ],
   "source": [
    "for i in  range(5):\n",
    "    print(SNLI_train[i]['sentence1'])\n",
    "    print(SNLI_train[i]['sentence2'])\n",
    "    print(SNLI_train[i]['gold_label'])"
   ]
  },
  {
   "cell_type": "markdown",
   "metadata": {},
   "source": [
    "### Feedind sentences to tensors"
   ]
  },
  {
   "cell_type": "code",
   "execution_count": 8,
   "metadata": {},
   "outputs": [
    {
     "name": "stdout",
     "output_type": "stream",
     "text": [
      "['<s>', 'children', 'smiling', 'and', 'waving', 'at', 'camera', '</s>']\n",
      "torch.Size([1, 8, 200])\n",
      "torch.Size([4, 29, 200]) torch.Size([4, 29, 200])\n",
      "[(16, 9), (16, 9), (16, 9), (29, 19)]\n",
      "Variable containing:\n",
      "(0 ,.,.) = \n",
      "  0.0000  0.0000\n",
      "  0.0000  0.0000\n",
      "  0.0000  0.0000\n",
      "\n",
      "(1 ,.,.) = \n",
      "  0.0000  0.0000\n",
      "  0.0000  0.0000\n",
      "  0.0000  0.0000\n",
      "\n",
      "(2 ,.,.) = \n",
      "  0.0000  0.0000\n",
      "  0.0000  0.0000\n",
      "  0.0000  0.0000\n",
      "\n",
      "(3 ,.,.) = \n",
      " -0.0107 -0.0589\n",
      " -0.0331 -0.0197\n",
      "  0.3436  0.0026\n",
      "[torch.FloatTensor of size 4x3x2]\n",
      "\n"
     ]
    }
   ],
   "source": [
    "def sentenceTo2DTensor(sentence, embeddings, size=None):\n",
    "    if (not size) :\n",
    "        size = len(sentence)\n",
    "    V1 = torch.zeros(size,200)\n",
    "    for i, w1 in enumerate(sentence):\n",
    "        v1 = embeddings.get(w1) if w1 not in myOOV.OOVlist else torch.FloatTensor([np.random.rand(1,200)])\n",
    "        V1[i] = v1\n",
    "    return V1\n",
    "\n",
    "def sentenceTo3DTensor(sentence,embeddings):\n",
    "    V1 = torch.zeros(1,len(sentence),200)\n",
    "    V1[0] = sentenceTo2DTensor(sentence,embeddings)\n",
    "    return Variable(V1)\n",
    "\n",
    "def batchesSentencesToTensors(start,size,dataset,embeddings):\n",
    "    maxlength = 0\n",
    "    for i in range(start,start+size):\n",
    "        l1, l2 = len(dataset[i]['sentence1']), len(dataset[i]['sentence2'])\n",
    "        l = l1 if l1>l2 else l2\n",
    "        maxlength = l if l>maxlength else maxlength\n",
    "    Va = torch.zeros(size,maxlength,200)\n",
    "    Vb = torch.zeros(size,maxlength,200)\n",
    "    lengths = []\n",
    "    for i in range(start,start+size):\n",
    "        sentence1, sentence2 = dataset[i]['sentence1'], dataset[i]['sentence2']\n",
    "#         print(sentence1,sentence2)\n",
    "        Va[i-start], Vb[i-start] = sentenceTo2DTensor(sentence1,embeddings,maxlength), sentenceTo2DTensor(sentence2,embeddings,maxlength)\n",
    "        lengths.append((len(sentence1),len(sentence2)))\n",
    "    Va, Vb = Variable(Va), Variable(Vb)\n",
    "    \n",
    "    return Va, Vb, lengths\n",
    "        \n",
    "    \n",
    "s1 = SNLI_train_tokenized[5][\"sentence1\"]\n",
    "print(s1)\n",
    "V1 = sentenceTo3DTensor(s1,glove) \n",
    "print(V1.size())\n",
    "Va, Vb, lengths = batchesSentencesToTensors(6,4,SNLI_train_tokenized,glove)\n",
    "sa = Va.size()\n",
    "print(sa,Vb.size())\n",
    "print(lengths)\n",
    "print(Va[:,sa[1]-3:,198:])"
   ]
  },
  {
   "cell_type": "code",
   "execution_count": 10,
   "metadata": {},
   "outputs": [
    {
     "name": "stdout",
     "output_type": "stream",
     "text": [
      "A man looks at the camera as he holds a small soldering iron near a magnifying glass and circuit board. A man looking at the internal components of a camera. entailment\n",
      "A group of friends are deciding what they should eat today. Some people are gathered at a table. entailment\n",
      "Four men play a frisbee game on a grass field. Four men play a game. entailment\n",
      "torch.Size([4, 16, 200]) torch.Size([4, 16, 200]) torch.Size([4])\n"
     ]
    }
   ],
   "source": [
    "all_categories = ['entailment', 'neutral', 'contradiction']\n",
    "\n",
    "import random\n",
    "\n",
    "def categoryFromOutput(output):\n",
    "    top_n, top_i = output.data.topk(1)\n",
    "    category_i = top_i[0]\n",
    "    return all_categories[category_i], category_i\n",
    "\n",
    "# print(categoryFromOutput(output[0]))\n",
    "\n",
    "def getTrainingExample(dataset,dataset_tokenized,i):\n",
    "    category = dataset[i][\"gold_label\"]\n",
    "    category_tensor = Variable(torch.LongTensor([all_categories.index(category)]))\n",
    "    s1, s2 = dataset[i][\"sentence1\"], dataset[i][\"sentence2\"]\n",
    "    x1, x2 = dataset_tokenized[i][\"sentence1\"], dataset_tokenized[i][\"sentence2\"]\n",
    "    a, b = sentenceTo3DTensor(x1,glove), sentenceTo3DTensor(x2,glove)\n",
    "    return category, s1, s2, category_tensor, a, b\n",
    "\n",
    "def randomTrainingExample(dataset,dataset_tokenized):\n",
    "    i = random.randint(0,len(dataset)-1)\n",
    "    category, s1, s2, category_tensor, a, b = getTrainingExample(dataset,dataset_tokenized,i)\n",
    "    return category, s1, s2, category_tensor, a, b\n",
    "\n",
    "def getTrainingBatch(start,size,dataset,dataset_tokenized,embeddings):\n",
    "    A, B, l = batchesSentencesToTensors(start,size,dataset_tokenized,embeddings)\n",
    "    array = np.zeros(size)\n",
    "    C = torch.LongTensor(array)\n",
    "    for i in range(start,start+size):\n",
    "        category = dataset[i][\"gold_label\"]\n",
    "        C[i-start] = all_categories.index(category)\n",
    "    return Variable(C), A, B\n",
    "\n",
    "for j in range(0,3):\n",
    "    category, s1, s2, category_tensor, a, b = randomTrainingExample(SNLI_train,SNLI_train_tokenized)\n",
    "    print(s1,s2,category)\n",
    "    \n",
    "C, A, B = getTrainingBatch(4,4,SNLI_train,SNLI_train_tokenized,glove)\n",
    "print(A.size(),B.size(),C.size())"
   ]
  },
  {
   "cell_type": "markdown",
   "metadata": {},
   "source": [
    "### Preparing training, dev and test sets TODO\n",
    "\n",
    "+ cf paper (padding, semi sorting, etc)"
   ]
  },
  {
   "cell_type": "markdown",
   "metadata": {},
   "source": [
    "# Neural Network\n",
    "\n",
    "## Creating the network"
   ]
  },
  {
   "cell_type": "code",
   "execution_count": 166,
   "metadata": {},
   "outputs": [
    {
     "name": "stdout",
     "output_type": "stream",
     "text": [
      "torch.Size([4, 8, 200]) torch.Size([4, 8, 200])\n",
      "Variable containing:\n",
      "-1.1249 -1.3312 -0.8888\n",
      "-1.0459 -1.5082 -0.8502\n",
      "-1.1967 -1.4347 -0.7774\n",
      "-1.1217 -1.2129 -0.9757\n",
      "[torch.FloatTensor of size 4x3]\n",
      "\n"
     ]
    }
   ],
   "source": [
    "import torch.nn as nn\n",
    "from torch.autograd import Variable\n",
    "import torch.nn.functional as F\n",
    "\n",
    "D_IN = 200\n",
    "D_HIDDEN = 200\n",
    "D_OUT_MLP = 1\n",
    "D_OUT = 3\n",
    "\n",
    "class NN(nn.Module):\n",
    "    def __init__(self,dropout_ratio=0.2,d_in=D_IN,d_out=D_OUT,d_hidden=D_HIDDEN):\n",
    "#                  d_out_mlp = D_OUT_MLP):\n",
    "        super(NN, self).__init__()\n",
    "        n = 0.01\n",
    "        self.MLP1_h1 = nn.Linear(d_in,d_hidden)\n",
    "#         self.MLP1_h1.weight.data.normal_(-n,n)\n",
    "#         self.MLP1_h2 = nn.Linear(d_hidden,d_hidden)\n",
    "#         self.MLP1_h2.weight.data.normal_(-n,n)   \n",
    "        \n",
    "        self.MLP2_h1 = nn.Linear(d_in*2,d_hidden)\n",
    "#         self.MLP2_h1.weight.data.normal_(-n,n)\n",
    "#         self.MLP2_h2 = nn.Linear(d_hidden,d_hidden)\n",
    "#         self.MLP2_h2.weight.data.normal_(-n,n)\n",
    "        \n",
    "        self.MLP3_h1 = nn.Linear(d_in*2,d_hidden)\n",
    "#         self.MLP3_h1.weight.data.normal_(-n,n)\n",
    "#         self.MLP3_h2 = nn.Linear(d_hidden,d_hidden)\n",
    "#         self.MLP3_h2.weight.data.normal_(-n,n)\n",
    "        self.MLP3_out = nn.Linear(d_hidden,d_out)\n",
    "#         self.MLP3_out.weight.data.normal_(-n,n)\n",
    "        \n",
    "        self.MLP_drop = nn.Dropout(p=dropout_ratio)\n",
    "        \n",
    "        self.logSoftmax = nn.LogSoftmax(dim=1)\n",
    "        self.softmaxCol = nn.Softmax(0)\n",
    "        self.softmaxLine = nn.Softmax(1)\n",
    "        \n",
    "    def forward(self,a,b):\n",
    "        \n",
    "        # MLP1 (F)\n",
    "        \n",
    "        Fa = F.relu(self.MLP1_h1(a))\n",
    "        Fa = self.MLP_drop(Fa)\n",
    "#         Fa = F.relu(self.MLP1_h2(Fa))\n",
    "#         Fa = self.MLP1_out(Fa)        \n",
    "        Fb = F.relu(self.MLP1_h1(b))\n",
    "        Fb = self.MLP_drop(Fb)\n",
    "#         Fb = F.relu(self.MLP1_h2(Fb))\n",
    "#         Fb = self.MLP1_out(Fb)\n",
    "        \n",
    "        # Attend\n",
    "        \n",
    "        # Attention eight matrix\n",
    "        Fb = Fb.permute(0,2,1)\n",
    "        E = torch.bmm(Fa,Fb)\n",
    "        # Normalize attention wights\n",
    "        E_softmaxCol = self.softmaxCol(E)\n",
    "        E_softmaxLine = self.softmaxLine(E).permute(0,2,1)  \n",
    "        # Softly aligned subphrases\n",
    "        beta = torch.bmm(E_softmaxCol,b) # subphrase b aligned with a\n",
    "        alpha = torch.bmm(E_softmaxLine,a) # subphrase a aligned with b\n",
    "                \n",
    "        # MLP2 (G)\n",
    "        \n",
    "        aBeta = torch.cat([a,beta],2)\n",
    "        bAlpha = torch.cat([b,alpha],2)\n",
    "        v1 = F.relu(self.MLP2_h1(aBeta))  \n",
    "        v1 = self.MLP_drop(v1)\n",
    "#         v1 = F.relu(self.MLP2_h2(v1))\n",
    "        v2 = F.relu(self.MLP2_h1(bAlpha))\n",
    "        v2 = self.MLP_drop(v2)\n",
    "#         v2 = F.relu(self.MLP2_h2(v2))\n",
    "        \n",
    "        # Aggregate\n",
    "        v1 = torch.sum(v1,1)\n",
    "        v2 = torch.sum(v2,1)\n",
    "                \n",
    "        # MLP3 (H)\n",
    "        y = torch.cat([v1,v2],1)\n",
    "\n",
    "#         Fa = torch.sum(Fa,0)\n",
    "#         Fa = Fa.unsqueeze(0)\n",
    "#         Fb = torch.sum(Fb,0)\n",
    "#         Fb = Fb.unsqueeze(0)\n",
    "#         y = torch.cat([Fa,Fb],1)\n",
    "\n",
    "        y = self.MLP3_h1(y)\n",
    "        y = self.MLP_drop(y)\n",
    "        y = F.relu(y)\n",
    "#         y = F.relu(self.MLP3_h2(y))\n",
    "        y = self.MLP3_out(y)    \n",
    "        y = self.logSoftmax(y)\n",
    "        \n",
    "        \n",
    "        return y\n",
    "    \n",
    "network = NN()\n",
    "\n",
    "# s1, s2 = SNLI_train_tokenized[0][\"sentence1\"], SNLI_train_tokenized[0][\"sentence2\"]\n",
    "# a, b = sentenceToTensor(s1,glove), sentenceToTensor(s2,glove)\n",
    "# o = network(a,b)\n",
    "# print(o)\n",
    "\n",
    "Va, Vb, l = batchesSentencesToTensors(0,4,SNLI_train_tokenized,glove)\n",
    "print(Va.size(),Vb.size())\n",
    "output = network(Va,Vb)\n",
    "print(output)"
   ]
  },
  {
   "cell_type": "markdown",
   "metadata": {},
   "source": [
    "## TODO\n",
    "+ check Agrad optimization\n",
    "+ default initial accumulator vvalue 0.1\n"
   ]
  },
  {
   "cell_type": "markdown",
   "metadata": {},
   "source": [
    "# Training"
   ]
  },
  {
   "cell_type": "markdown",
   "metadata": {},
   "source": [
    "## Training process"
   ]
  },
  {
   "cell_type": "code",
   "execution_count": 171,
   "metadata": {},
   "outputs": [
    {
     "name": "stdout",
     "output_type": "stream",
     "text": [
      "Variable containing:\n",
      "-0.8197 -4.5017 -0.6009\n",
      "-1.7367 -3.9761 -0.2167\n",
      "-1.4263 -4.9519 -0.2841\n",
      "-0.4610 -3.9272 -1.0509\n",
      "[torch.FloatTensor of size 4x3]\n",
      " 0.4453611969947815\n"
     ]
    }
   ],
   "source": [
    "criterion = nn.NLLLoss()\n",
    "learning_rate = 0.025\n",
    "\n",
    "def trainingStep(learning_rate, sentence1Tensor, sentence2Tensor, category_tensor):\n",
    "    network.zero_grad()\n",
    "    output = network(sentence1Tensor,sentence2Tensor)\n",
    "    loss = criterion(output, category_tensor)    \n",
    "    loss.backward()    \n",
    "    for p in network.parameters():\n",
    "#         print('new p')\n",
    "#         print(p.size())\n",
    "        p.data.add_(-learning_rate, p.grad.data)        \n",
    "    return output, loss.data[0], p.grad.data\n",
    "\n",
    "\n",
    "# output, loss, grad = train(a,b,category_tensor)\n",
    "output, loss, grad = trainingStep(learning_rate,A,B,C)\n",
    "print(output,loss)"
   ]
  },
  {
   "cell_type": "markdown",
   "metadata": {},
   "source": [
    "## Training the network"
   ]
  },
  {
   "cell_type": "code",
   "execution_count": 176,
   "metadata": {},
   "outputs": [],
   "source": [
    "start = time.time()"
   ]
  },
  {
   "cell_type": "code",
   "execution_count": 179,
   "metadata": {},
   "outputs": [
    {
     "data": {
      "text/plain": [
       "'0h 1m 52s'"
      ]
     },
     "execution_count": 179,
     "metadata": {},
     "output_type": "execute_result"
    }
   ],
   "source": [
    "import time\n",
    "import math\n",
    "\n",
    "def timeSince(since):\n",
    "    now = time.time()\n",
    "    s = now - since\n",
    "    h = math.floor(s/(60*60))\n",
    "    s = s - h*60*60\n",
    "    m = math.floor(s/60)\n",
    "    s -= m*60\n",
    "    return '%dh %dm %ds'%(h,m,s)\n",
    "\n",
    "timeSince(start)"
   ]
  },
  {
   "cell_type": "code",
   "execution_count": 203,
   "metadata": {},
   "outputs": [
    {
     "name": "stdout",
     "output_type": "stream",
     "text": [
      "10113 10% (0h 0m 30s) 8.024790 0.992082\n",
      "Construction men setting up train tracks.\n",
      "A house is being built.\n",
      "contradiction ✓\n",
      "\n",
      "1.00000e-02 *\n",
      "  1.2664\n",
      "  1.1924\n",
      "  5.9877\n",
      "  5.8416\n",
      " -2.6126\n",
      "[torch.FloatTensor of size 5]\n",
      "\n",
      "20097 20% (0h 1m 1s) 7.857378 1.023414\n",
      "Boys play cricket on a field.\n",
      "Small boys play a game.\n",
      "entailment ✗ (neutral)\n",
      "\n",
      "1.00000e-02 *\n",
      "  1.2679\n",
      "  1.1910\n",
      "  5.9854\n",
      "  5.8411\n",
      " -2.6138\n",
      "[torch.FloatTensor of size 5]\n",
      "\n",
      "30081 30% (0h 1m 31s) 7.632391 0.926153\n",
      "These two people are eating.\n",
      "There are people eating.\n",
      "entailment ✓\n",
      "\n",
      "1.00000e-02 *\n",
      "  1.2685\n",
      "  1.1927\n",
      "  5.9852\n",
      "  5.8406\n",
      " -2.6148\n",
      "[torch.FloatTensor of size 5]\n",
      "\n",
      "40065 40% (0h 2m 2s) 7.719379 0.999412\n",
      "Uniformed children playing soccer\n",
      "Children play soccer.\n",
      "entailment ✓\n",
      "\n",
      "1.00000e-02 *\n",
      "  1.2704\n",
      "  1.1951\n",
      "  5.9855\n",
      "  5.8413\n",
      " -2.6165\n",
      "[torch.FloatTensor of size 5]\n",
      "\n",
      "50049 50% (0h 2m 32s) 7.489885 0.963024\n",
      "Three passengers on a train car.\n",
      "They are in a train.\n",
      "entailment ✓\n",
      "\n",
      "1.00000e-02 *\n",
      "  1.2722\n",
      "  1.1959\n",
      "  5.9834\n",
      "  5.8402\n",
      " -2.6186\n",
      "[torch.FloatTensor of size 5]\n",
      "\n",
      "60033 60% (0h 3m 3s) 7.394923 0.979237\n",
      "A father and son walking towards a fishing boat.\n",
      "The father and son walk to the fishing boat.\n",
      "neutral ✗ (entailment)\n",
      "\n",
      "1.00000e-02 *\n",
      "  1.2744\n",
      "  1.1967\n",
      "  5.9832\n",
      "  5.8398\n",
      " -2.6237\n",
      "[torch.FloatTensor of size 5]\n",
      "\n",
      "70017 70% (0h 3m 34s) 6.599607 0.933845\n",
      "A man preparing his gondola for a short trip.\n",
      "A person is going to be using a boat.\n",
      "entailment ✓\n",
      "\n",
      "1.00000e-02 *\n",
      "  1.2748\n",
      "  1.2003\n",
      "  5.9842\n",
      "  5.8389\n",
      " -2.6257\n",
      "[torch.FloatTensor of size 5]\n",
      "\n",
      "80001 80% (0h 4m 4s) 6.401988 0.892177\n",
      "A large tan dog sits on a grassy hill.\n",
      "Hills are always covered in grass.\n",
      "neutral ✗ (contradiction)\n",
      "\n",
      "1.00000e-02 *\n",
      "  1.2769\n",
      "  1.2012\n",
      "  5.9840\n",
      "  5.8399\n",
      " -2.6310\n",
      "[torch.FloatTensor of size 5]\n",
      "\n",
      "90113 90% (0h 4m 35s) 7.326698 0.943610\n",
      "People sitting on a rug around ropes.\n",
      "People sit on the rug.\n",
      "contradiction ✗ (entailment)\n",
      "\n",
      "1.00000e-02 *\n",
      "  1.2806\n",
      "  1.2024\n",
      "  5.9849\n",
      "  5.8401\n",
      " -2.6335\n",
      "[torch.FloatTensor of size 5]\n",
      "\n"
     ]
    }
   ],
   "source": [
    "def train(network,n_iters,learning_rate,batch_size,dropout_ratio,print_every_bool=False):\n",
    "\n",
    "    print_every = n_iters/100*10\n",
    "    plot_every = print_every/10\n",
    "    \n",
    "    # keep track of losses for ploting\n",
    "    current_loss = 0\n",
    "    all_losses = []\n",
    "    \n",
    "    s = time.time()\n",
    "#     network = NN(dropout_ratio)\n",
    "    \n",
    "    it = 1\n",
    "    last_print, last_plot = 0, 0\n",
    "\n",
    "    while it<n_iters+1:\n",
    "    #     category, s1, s2, category_tensor, a, b = randomTrainingExample(SNLI_train,SNLI_train_tokenized)\n",
    "        if batch_size >1:\n",
    "            start = it%lenSNLI\n",
    "            start = 1 if (start + batch_size)>=lenSNLI else start\n",
    "            category_tensor, A, B = getTrainingBatch(start,batch_size,SNLI_train,SNLI_train_tokenized,glove)\n",
    "        else:\n",
    "            category, s1, s2, category_tensor, A, B = getTrainingExample(SNLI_train,SNLI_train_tokenized,it%lenSNLI)\n",
    "        output, loss, grad = trainingStep(learning_rate,A,B,category_tensor)\n",
    "        current_loss += loss\n",
    "\n",
    "        if print_every_bool and int(it/print_every)>last_print:\n",
    "            last_print += 1\n",
    "            category, s1, s2, category_tensor, a, b = randomTrainingExample(SNLI_train,SNLI_train_tokenized)\n",
    "#             print(a.size(),b.size())\n",
    "            output = network(a,b)\n",
    "            guess, guess_i = categoryFromOutput(output[0])\n",
    "            correct = '✓' if guess == category else '✗ (%s)' % category\n",
    "            print ('%d %d%% (%s) %.6f %.6f'\n",
    "                   %(it, it/n_iters*100, timeSince(s), current_loss, loss))\n",
    "            print(s1)\n",
    "            print(s2)\n",
    "            print('%s %s'%(guess,correct))\n",
    "            print(network.MLP1_h1.weight.data[0][0:5])\n",
    "\n",
    "        if int(it/plot_every) > last_plot:\n",
    "            last_plot += 1\n",
    "            l = current_loss / plot_every\n",
    "            all_losses.append(l)\n",
    "            current_loss = 0\n",
    "            \n",
    "        it += batch_size\n",
    "            \n",
    "    return all_losses\n",
    "\n",
    "start = time.time()\n",
    "all_losses = train(network,100000,0.01,128,0.1,print_every_bool=True)"
   ]
  },
  {
   "cell_type": "markdown",
   "metadata": {},
   "source": [
    "## Plot losses"
   ]
  },
  {
   "cell_type": "code",
   "execution_count": 188,
   "metadata": {},
   "outputs": [
    {
     "data": {
      "image/png": "[encoded data removed]",
      "text/plain": [
       "<matplotlib.figure.Figure at 0x270820ac8>"
      ]
     },
     "metadata": {},
     "output_type": "display_data"
    }
   ],
   "source": [
    "import matplotlib.pyplot as plt\n",
    "import matplotlib.ticker as ticker\n",
    "\n",
    "plt.figure()\n",
    "plt.plot(all_losses)\n",
    "plt.show()"
   ]
  },
  {
   "cell_type": "markdown",
   "metadata": {},
   "source": [
    "# Evaluate network"
   ]
  },
  {
   "cell_type": "code",
   "execution_count": 74,
   "metadata": {},
   "outputs": [],
   "source": [
    "def evaluatingStep(sentence1Tensor, sentence2Tensor, category_tensor):\n",
    "    network.zero_grad()\n",
    "    output = network(sentence1Tensor,sentence2Tensor)\n",
    "    return output"
   ]
  },
  {
   "cell_type": "code",
   "execution_count": 82,
   "metadata": {},
   "outputs": [
    {
     "name": "stdout",
     "output_type": "stream",
     "text": [
      "...loading SNLI dataset\n",
      "Loaded 9824 pairs of sentences from SNLI dataset\n",
      "...tokenizing and getting word embeddings for SNLI dataset\n",
      "6159 OOV words\n",
      "6023 pairs of sentences have OOV words for a total of 2433 sentence pairs\n"
     ]
    }
   ],
   "source": [
    "SNLI_test, SNLI_test_tokenized = loadAndPreprocessDataset('NLI/snli_1.0/snli_1.0_test.jsonl')"
   ]
  },
  {
   "cell_type": "code",
   "execution_count": 201,
   "metadata": {},
   "outputs": [
    {
     "name": "stdout",
     "output_type": "stream",
     "text": [
      "Overall accrucary: 58.16%\n"
     ]
    }
   ],
   "source": [
    "n_categories = len(all_categories)\n",
    "\n",
    "#keep track of correct guesses in confusion matrix\n",
    "def evaluate(network,dataset,dataset_tokenized,batch_size=128,print_every_bool=False):\n",
    "    confusion = torch.zeros(n_categories, n_categories)\n",
    "    len_dataset = len(dataset)\n",
    "    print_every = len_dataset/10\n",
    "\n",
    "    it = 1\n",
    "    total_correct = 0\n",
    "    # Go through examples and record which are guessed correctly\n",
    "    while it<len_dataset:\n",
    "        if batch_size >1:\n",
    "            start = it%len_dataset\n",
    "            start = 1 if (start + batch_size)>=len_dataset else start\n",
    "            category_tensor, A, B = getTrainingBatch(start,batch_size,dataset,dataset_tokenized,glove)\n",
    "        else:\n",
    "            category, s1, s2, category_tensor, A, B = getTrainingExample(dataset,dataset_tokenized,it%len_dataset)\n",
    "        output = evaluatingStep(A,B,category_tensor)\n",
    "        for i in range(output.size()[0]):\n",
    "            guess, guess_i = categoryFromOutput(output[i])\n",
    "            category_i = int(category_tensor[i])\n",
    "            confusion[category_i][guess_i] += 1\n",
    "            total_correct += 1 if (category_i == guess_i) else 0\n",
    "        it += batch_size\n",
    "        \n",
    "    for i in range(n_categories):\n",
    "        confusion[i] = confusion[i] / confusion[i].sum()\n",
    "\n",
    "    acc = total_correct / len_dataset \n",
    "    \n",
    "    return acc\n",
    "\n",
    "acc = evaluate(network,SNLI_dev,SNLI_dev_tokenized,batch_size=1,print_every_bool=True)\n",
    "print('Overall accrucary: %.2f%%'%(acc*100))"
   ]
  },
  {
   "cell_type": "code",
   "execution_count": 204,
   "metadata": {},
   "outputs": [
    {
     "data": {
      "image/png": "[encoded data removed]",
      "text/plain": [
       "<matplotlib.figure.Figure at 0x28af64da0>"
      ]
     },
     "metadata": {},
     "output_type": "display_data"
    }
   ],
   "source": [
    "# Plot\n",
    "fig = plt.figure()\n",
    "ax = fig.add_subplot(111)\n",
    "cax = ax.matshow(confusion.numpy())\n",
    "fig.colorbar(cax)\n",
    "\n",
    "# Axes\n",
    "ax.set_xticklabels([''] + all_categories, rotation=90)\n",
    "ax.set_yticklabels([''] + all_categories)\n",
    "\n",
    "# Force label at every tick\n",
    "ax.xaxis.set_major_locator(ticker.MultipleLocator(1))\n",
    "ax.yaxis.set_major_locator(ticker.MultipleLocator(1))\n",
    "\n",
    "plt.show()"
   ]
  },
  {
   "cell_type": "markdown",
   "metadata": {},
   "source": [
    "## Development - Getting best batch size, learning rate and dropout ratio"
   ]
  },
  {
   "cell_type": "code",
   "execution_count": 126,
   "metadata": {},
   "outputs": [
    {
     "name": "stdout",
     "output_type": "stream",
     "text": [
      "...loading SNLI dataset\n",
      "Loaded 9842 pairs of sentences from SNLI dataset\n",
      "...tokenizing and getting word embeddings for SNLI dataset\n",
      "6180 OOV words\n",
      "6044 pairs of sentences have OOV words for a total of 2366 sentence pairs\n"
     ]
    }
   ],
   "source": [
    "SNLI_dev, SNLI_dev_tokenized = loadAndPreprocessDataset('NLI/snli_1.0/snli_1.0_dev.jsonl')"
   ]
  },
  {
   "cell_type": "code",
   "execution_count": 197,
   "metadata": {
    "scrolled": true
   },
   "outputs": [
    {
     "name": "stdout",
     "output_type": "stream",
     "text": [
      "(0h 10m 5s) Learning Rate: 0.100, dropout ratio: 0.10 --> Accuracy: 35.93%\n",
      "(0h 20m 9s) Learning Rate: 0.100, dropout ratio: 0.20 --> Accuracy: 33.85%\n",
      "(0h 30m 24s) Learning Rate: 0.100, dropout ratio: 0.30 --> Accuracy: 33.85%\n",
      "(0h 40m 43s) Learning Rate: 0.100, dropout ratio: 0.40 --> Accuracy: 33.85%\n",
      "(0h 51m 2s) Learning Rate: 0.100, dropout ratio: 0.50 --> Accuracy: 33.85%\n",
      "(1h 1m 21s) Learning Rate: 0.300, dropout ratio: 0.10 --> Accuracy: 33.85%\n",
      "(1h 11m 33s) Learning Rate: 0.300, dropout ratio: 0.20 --> Accuracy: 33.85%\n",
      "(1h 21m 46s) Learning Rate: 0.300, dropout ratio: 0.30 --> Accuracy: 35.93%\n",
      "(1h 32m 1s) Learning Rate: 0.300, dropout ratio: 0.40 --> Accuracy: 33.85%\n",
      "(1h 42m 8s) Learning Rate: 0.300, dropout ratio: 0.50 --> Accuracy: 33.85%\n",
      "(1h 52m 27s) Learning Rate: 0.600, dropout ratio: 0.10 --> Accuracy: 33.85%\n",
      "(2h 2m 47s) Learning Rate: 0.600, dropout ratio: 0.20 --> Accuracy: 33.85%\n",
      "(2h 12m 53s) Learning Rate: 0.600, dropout ratio: 0.30 --> Accuracy: 33.85%\n",
      "(2h 23m 0s) Learning Rate: 0.600, dropout ratio: 0.40 --> Accuracy: 33.85%\n",
      "(2h 33m 7s) Learning Rate: 0.600, dropout ratio: 0.50 --> Accuracy: 33.85%\n",
      "(2h 43m 12s) Learning Rate: 1.000, dropout ratio: 0.10 --> Accuracy: 33.85%\n",
      "(2h 53m 19s) Learning Rate: 1.000, dropout ratio: 0.20 --> Accuracy: 30.18%\n",
      "(3h 3m 27s) Learning Rate: 1.000, dropout ratio: 0.30 --> Accuracy: 33.85%\n",
      "(3h 13m 34s) Learning Rate: 1.000, dropout ratio: 0.40 --> Accuracy: 33.85%\n",
      "(3h 23m 42s) Learning Rate: 1.000, dropout ratio: 0.50 --> Accuracy: 33.85%\n"
     ]
    }
   ],
   "source": [
    "learning_rates = [0.1,0.3,0.6,1] \n",
    "# batch_sizes = [1,2,4,8,16,32,64,128]\n",
    "dropout_ratios = [0.1,0.2,0.3,0.4,0.5]\n",
    "n_iters = 100000\n",
    "\n",
    "lenSNLI = len(SNLI_train)\n",
    "all_losses = {}\n",
    "accuracies = {}\n",
    "\n",
    "s = time.time()\n",
    "\n",
    "for lr in learning_rates:\n",
    "    all_losses[lr] = {}\n",
    "    accuracies[lr] = {}\n",
    "    for dropout_r in dropout_ratios:\n",
    "        network = NN(dropout_r)\n",
    "        all_losses[lr][dropout_r] = train(network,n_iters,lr,1,dropout_r)  \n",
    "        accuracies[lr][dropout_r] = evaluate(network,SNLI_dev,SNLI_dev_tokenized,batch_size=1,print_every_bool=False)\n",
    "        print('(%s) Learning Rate: %.3f, dropout ratio: %.2f --> Accuracy: %.2f%%'\n",
    "                  %(timeSince(s),lr,dropout_r,accuracies[lr][dropout_r]*100))\n",
    "        "
   ]
  },
  {
   "cell_type": "raw",
   "metadata": {},
   "source": [
    "(0h 10m 6s) Learning Rate: 0.001, dropout ratio: 0.10 --> Accuracy: 45.10%\n",
    "(0h 20m 18s) Learning Rate: 0.001, dropout ratio: 0.20 --> Accuracy: 44.51%\n",
    "(0h 30m 35s) Learning Rate: 0.001, dropout ratio: 0.30 --> Accuracy: 44.72%\n",
    "(0h 40m 43s) Learning Rate: 0.001, dropout ratio: 0.40 --> Accuracy: 42.39%\n",
    "(0h 50m 54s) Learning Rate: 0.001, dropout ratio: 0.50 --> Accuracy: 43.15%\n",
    "(1h 0m 57s) Learning Rate: 0.003, dropout ratio: 0.10 --> Accuracy: 49.32%\n",
    "(1h 10m 58s) Learning Rate: 0.003, dropout ratio: 0.20 --> Accuracy: 48.86%\n",
    "(1h 21m 1s) Learning Rate: 0.003, dropout ratio: 0.30 --> Accuracy: 52.41%\n",
    "(1h 31m 1s) Learning Rate: 0.003, dropout ratio: 0.40 --> Accuracy: 48.35%\n",
    "(1h 41m 2s) Learning Rate: 0.003, dropout ratio: 0.50 --> Accuracy: 46.79%\n",
    "(1h 51m 1s) Learning Rate: 0.006, dropout ratio: 0.10 --> Accuracy: 57.10%\n",
    "(2h 1m 3s) Learning Rate: 0.006, dropout ratio: 0.20 --> Accuracy: 54.86%\n",
    "(2h 11m 8s) Learning Rate: 0.006, dropout ratio: 0.30 --> Accuracy: 53.76%\n",
    "(2h 21m 10s) Learning Rate: 0.006, dropout ratio: 0.40 --> Accuracy: 53.97%\n",
    "(2h 31m 20s) Learning Rate: 0.006, dropout ratio: 0.50 --> Accuracy: 49.96%\n",
    "(2h 41m 36s) Learning Rate: 0.010, dropout ratio: 0.10 --> Accuracy: 53.68%\n",
    "(2h 51m 54s) Learning Rate: 0.010, dropout ratio: 0.20 --> Accuracy: 56.68%\n",
    "(3h 2m 5s) Learning Rate: 0.010, dropout ratio: 0.30 --> Accuracy: 56.59%\n",
    "(3h 12m 16s) Learning Rate: 0.010, dropout ratio: 0.40 --> Accuracy: 54.78%\n",
    "(3h 22m 27s) Learning Rate: 0.010, dropout ratio: 0.50 --> Accuracy: 51.90%\n",
    "(1h 50m 56s) Learning Rate: 0.030, dropout ratio: 0.10 --> Accuracy: 35.93%\n",
    "(3h 32m 39s) Learning Rate: 0.030, dropout ratio: 0.10 --> Accuracy: 35.93%\n",
    "(3h 42m 55s) Learning Rate: 0.030, dropout ratio: 0.20 --> Accuracy: 35.93%\n",
    "(3h 53m 15s) Learning Rate: 0.030, dropout ratio: 0.30 --> Accuracy: 35.93%\n",
    "(4h 3m 34s) Learning Rate: 0.030, dropout ratio: 0.40 --> Accuracy: 35.93%\n",
    "(4h 13m 53s) Learning Rate: 0.030, dropout ratio: 0.50 --> Accuracy: 33.85%\n",
    "(4h 24m 2s) Learning Rate: 0.060, dropout ratio: 0.10 --> Accuracy: 33.85%\n",
    "(4h 34m 9s) Learning Rate: 0.060, dropout ratio: 0.20 --> Accuracy: 33.85%\n",
    "(4h 44m 9s) Learning Rate: 0.060, dropout ratio: 0.30 --> Accuracy: 33.85%\n",
    "(4h 54m 9s) Learning Rate: 0.060, dropout ratio: 0.40 --> Accuracy: 33.85%\n",
    "(5h 4m 15s) Learning Rate: 0.060, dropout ratio: 0.50 --> Accuracy: 33.85%\n",
    "(0h 10m 5s) Learning Rate: 0.100, dropout ratio: 0.10 --> Accuracy: 35.93%\n",
    "(0h 20m 9s) Learning Rate: 0.100, dropout ratio: 0.20 --> Accuracy: 33.85%\n",
    "(0h 30m 24s) Learning Rate: 0.100, dropout ratio: 0.30 --> Accuracy: 33.85%\n",
    "(0h 40m 43s) Learning Rate: 0.100, dropout ratio: 0.40 --> Accuracy: 33.85%\n",
    "(0h 51m 2s) Learning Rate: 0.100, dropout ratio: 0.50 --> Accuracy: 33.85%\n",
    "(1h 1m 21s) Learning Rate: 0.300, dropout ratio: 0.10 --> Accuracy: 33.85%\n",
    "(1h 11m 33s) Learning Rate: 0.300, dropout ratio: 0.20 --> Accuracy: 33.85%\n",
    "(1h 21m 46s) Learning Rate: 0.300, dropout ratio: 0.30 --> Accuracy: 35.93%\n",
    "(1h 32m 1s) Learning Rate: 0.300, dropout ratio: 0.40 --> Accuracy: 33.85%\n",
    "(1h 42m 8s) Learning Rate: 0.300, dropout ratio: 0.50 --> Accuracy: 33.85%\n",
    "(1h 52m 27s) Learning Rate: 0.600, dropout ratio: 0.10 --> Accuracy: 33.85%\n",
    "(2h 2m 47s) Learning Rate: 0.600, dropout ratio: 0.20 --> Accuracy: 33.85%\n",
    "(2h 12m 53s) Learning Rate: 0.600, dropout ratio: 0.30 --> Accuracy: 33.85%\n",
    "(2h 23m 0s) Learning Rate: 0.600, dropout ratio: 0.40 --> Accuracy: 33.85%\n",
    "(2h 33m 7s) Learning Rate: 0.600, dropout ratio: 0.50 --> Accuracy: 33.85%\n",
    "(2h 43m 12s) Learning Rate: 1.000, dropout ratio: 0.10 --> Accuracy: 33.85%\n",
    "(2h 53m 19s) Learning Rate: 1.000, dropout ratio: 0.20 --> Accuracy: 30.18%\n",
    "(3h 3m 27s) Learning Rate: 1.000, dropout ratio: 0.30 --> Accuracy: 33.85%\n",
    "(3h 13m 34s) Learning Rate: 1.000, dropout ratio: 0.40 --> Accuracy: 33.85%\n",
    "(3h 23m 42s) Learning Rate: 1.000, dropout ratio: 0.50 --> Accuracy: 33.85%"
   ]
  },
  {
   "cell_type": "raw",
   "metadata": {},
   "source": [
    "Best models:\n",
    "(1h 51m 1s) Learning Rate: 0.006, dropout ratio: 0.10 --> Accuracy: \t\t57.10%\n",
    "    (2h 1m 3s) Learning Rate: 0.006, dropout ratio: 0.20 --> Accuracy: \t\t54.86%\n",
    "(2h 51m 54s) Learning Rate: 0.010, dropout ratio: 0.20 --> Accuracy: \t\t56.68%\n",
    "    (3h 2m 5s) Learning Rate: 0.010, dropout ratio: 0.30 --> Accuracy: \t\t56.59%\n",
    "(3h 12m 16s) Learning Rate: 0.010, dropout ratio: 0.40 --> Accuracy: \t\t54.78%"
   ]
  },
  {
   "cell_type": "markdown",
   "metadata": {},
   "source": [
    "## Retrain best models on more iterations"
   ]
  },
  {
   "cell_type": "code",
   "execution_count": 205,
   "metadata": {},
   "outputs": [
    {
     "name": "stdout",
     "output_type": "stream",
     "text": [
      "(0h 50m 45s) Learning Rate: 0.006, dropout ratio: 0.10 --> Accuracy: 72.40%\n",
      "(18h 26m 25s) Learning Rate: 0.006, dropout ratio: 0.20 --> Accuracy: 70.50%\n",
      "(19h 17m 33s) Learning Rate: 0.010, dropout ratio: 0.20 --> Accuracy: 71.85%\n",
      "(20h 8m 31s) Learning Rate: 0.010, dropout ratio: 0.30 --> Accuracy: 68.93%\n",
      "(20h 59m 15s) Learning Rate: 0.010, dropout ratio: 0.40 --> Accuracy: 68.26%\n"
     ]
    }
   ],
   "source": [
    "best_models = [(0.006,0.1),(0.006,0.2),(0.01,0.2),(0.01,0.3),(0.01,0.4)]\n",
    "n_iters = 100000*5\n",
    "\n",
    "lenSNLI = len(SNLI_train)\n",
    "all_losses = {}\n",
    "accuracies = {}\n",
    "\n",
    "s = time.time()\n",
    "\n",
    "for lr, dropout_r in best_models:\n",
    "    network = NN(dropout_r)\n",
    "    all_losses[(lr,dropout_r)] = train(network,n_iters,lr,1,dropout_r)  \n",
    "    accuracies[(lr,dropout_r)] = evaluate(network,SNLI_dev,SNLI_dev_tokenized,batch_size=1,print_every_bool=False)\n",
    "    print('(%s) Learning Rate: %.3f, dropout ratio: %.2f --> Accuracy: %.2f%%'\n",
    "              %(timeSince(s),lr,dropout_r,accuracies[(lr,dropout_r)]*100))"
   ]
  },
  {
   "cell_type": "code",
   "execution_count": null,
   "metadata": {},
   "outputs": [],
   "source": []
  }
 ],
 "metadata": {
  "kernelspec": {
   "display_name": "Python 3",
   "language": "python",
   "name": "python3"
  },
  "language_info": {
   "codemirror_mode": {
    "name": "ipython",
    "version": 3
   },
   "file_extension": ".py",
   "mimetype": "text/x-python",
   "name": "python",
   "nbconvert_exporter": "python",
   "pygments_lexer": "ipython3",
   "version": "3.6.3"
  }
 },
 "nbformat": 4,
 "nbformat_minor": 2
}
